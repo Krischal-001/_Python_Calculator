{
 "cells": [
  {
   "cell_type": "markdown",
   "id": "33435e35-d40c-47ab-b0d2-18ca23e1cd14",
   "metadata": {},
   "source": [
    "# Lesson 1 Project: Simple Calculator\n",
    "\n",
    "This notebook demonstrates a basic calculator in Python.  \n",
    "We will practice:\n",
    "- Variables & Data Types\n",
    "- Input & Output\n",
    "- Arithmetic Operations\n",
    "- Conditional Statements"
   ]
  },
  {
   "cell_type": "code",
   "execution_count": 1,
   "id": "81e0ec63-522b-4cf8-963d-e66167654521",
   "metadata": {},
   "outputs": [
    {
     "name": "stdin",
     "output_type": "stream",
     "text": [
      "Enter operation (+,-,*,/) *\n"
     ]
    }
   ],
   "source": [
    "operation =input(\"Enter operation (+,-,*,/)\")"
   ]
  },
  {
   "cell_type": "code",
   "execution_count": 2,
   "id": "9fcb7c51-971f-48c4-b4f4-700db5d19eda",
   "metadata": {},
   "outputs": [
    {
     "name": "stdin",
     "output_type": "stream",
     "text": [
      "How many numbers do you want to calculate?  3\n"
     ]
    }
   ],
   "source": [
    "n = int(input(\"How many numbers do you want to calculate? \"))"
   ]
  },
  {
   "cell_type": "code",
   "execution_count": 4,
   "id": "207133cb-e4c7-41e5-8fa9-f93bb7847c56",
   "metadata": {},
   "outputs": [
    {
     "name": "stdin",
     "output_type": "stream",
     "text": [
      "enter number1: 3\n",
      "enter number2: 3\n",
      "enter number3: 3\n"
     ]
    },
    {
     "name": "stdout",
     "output_type": "stream",
     "text": [
      "Numbers you entered: [3, 3, 3]\n"
     ]
    }
   ],
   "source": [
    "numbers=[]\n",
    "for i in range(n):\n",
    "    num=int(input(f\"enter number{i+1}:\"))\n",
    "    numbers.append(num)\n",
    "print(\"Numbers you entered:\", numbers)"
   ]
  },
  {
   "cell_type": "code",
   "execution_count": 5,
   "id": "452f4742-cd88-4eb7-b779-1f57edeb265c",
   "metadata": {},
   "outputs": [
    {
     "name": "stdout",
     "output_type": "stream",
     "text": [
      "Result:27\n"
     ]
    }
   ],
   "source": [
    "if operation == '+':\n",
    "    result =sum(numbers)\n",
    "elif operation == '-':\n",
    "    result= numbers[0]\n",
    "    for num in numbers[1:]:\n",
    "        result-=num\n",
    "elif operation == '*':\n",
    "    result=1\n",
    "    for num in numbers:\n",
    "        result*=num\n",
    "elif operation == '/':\n",
    "    result =numbers[0]\n",
    "    for num in numbers[1:]:\n",
    "        if num !=0:\n",
    "            result/=num\n",
    "        else:\n",
    "            print(\"Error:Divisjion By Zero!\")\n",
    "            result = None\n",
    "            break\n",
    "else:\n",
    "    result =None\n",
    "    print(\"Invalid Operation\")\n",
    "if result is not None:\n",
    "    print(f\"Result:{result}\")\n",
    "\n",
    "\n"
   ]
  },
  {
   "cell_type": "code",
   "execution_count": null,
   "id": "bbeb674e-4a04-4b6d-ab9d-d169850b9720",
   "metadata": {},
   "outputs": [],
   "source": []
  }
 ],
 "metadata": {
  "kernelspec": {
   "display_name": "Python 3 (ipykernel)",
   "language": "python",
   "name": "python3"
  },
  "language_info": {
   "codemirror_mode": {
    "name": "ipython",
    "version": 3
   },
   "file_extension": ".py",
   "mimetype": "text/x-python",
   "name": "python",
   "nbconvert_exporter": "python",
   "pygments_lexer": "ipython3",
   "version": "3.8.10"
  }
 },
 "nbformat": 4,
 "nbformat_minor": 5
}
